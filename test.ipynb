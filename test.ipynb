{
  "nbformat": 4,
  "nbformat_minor": 0,
  "metadata": {
    "colab": {
      "provenance": [],
      "authorship_tag": "ABX9TyMXhKfP7I2R3wmk6RtupSsE",
      "include_colab_link": true
    },
    "kernelspec": {
      "name": "python3",
      "display_name": "Python 3"
    },
    "language_info": {
      "name": "python"
    }
  },
  "cells": [
    {
      "cell_type": "markdown",
      "metadata": {
        "id": "view-in-github",
        "colab_type": "text"
      },
      "source": [
        "<a href=\"https://colab.research.google.com/github/Keshav820/Keshav_Coding/blob/main/test.ipynb\" target=\"_parent\"><img src=\"https://colab.research.google.com/assets/colab-badge.svg\" alt=\"Open In Colab\"/></a>"
      ]
    },
    {
      "cell_type": "code",
      "execution_count": null,
      "metadata": {
        "colab": {
          "base_uri": "https://localhost:8080/"
        },
        "id": "oE-vLnLyiL7e",
        "outputId": "7786506b-4802-4dc7-d1c5-6402a0518a87"
      },
      "outputs": [
        {
          "output_type": "stream",
          "name": "stdout",
          "text": [
            "11\n"
          ]
        }
      ],
      "source": [
        "### Problem 1: Add two numbers\n",
        "\n",
        "## Let's start off with a simple one. Write a Python function that adds two numbers.\n",
        "def add_numbers(a, b):\n",
        "  return a + b\n",
        "print(add_numbers(2, 9))"
      ]
    },
    {
      "cell_type": "code",
      "source": [
        "### Problem 2: Add n numbers\n",
        "\n",
        "## Now, write a function that takes in an arbitrary number of arguments and returns their sum\n",
        "def my_sum(*numbs):\n",
        "  sum = 0\n",
        "  for num in numbs:\n",
        "     sum += num\n",
        "  return sum\n",
        "print(my_sum(2, 3, 4, 5))\n",
        "print(my_sum(2, 3, 40, 50))"
      ],
      "metadata": {
        "colab": {
          "base_uri": "https://localhost:8080/"
        },
        "id": "uuP-sMA_iZVx",
        "outputId": "777c7ef9-629f-4933-b424-90974fa26043"
      },
      "execution_count": null,
      "outputs": [
        {
          "output_type": "stream",
          "name": "stdout",
          "text": [
            "14\n",
            "95\n"
          ]
        }
      ]
    },
    {
      "cell_type": "code",
      "source": [
        "### Problem 3: Factorial of a number\n",
        "\n",
        "# I'm sure you must have heard of factorials. Mathematically, they're defined as follows:\n",
        "\n",
        "# ```\n",
        "# n! = n x (n-1) x (n-2) x ... x 2 x 1\n",
        "# ```\n",
        "\n",
        "def fact(n):\n",
        "  if n < 0:\n",
        "    return \"Factorial doesn't exist!\"\n",
        "  elif n == 0:\n",
        "    return \"Factorial 0 = 1\"\n",
        "  else:\n",
        "   multiply = 1\n",
        "   for i in range(1, n+1):\n",
        "    multiply = multiply*i\n",
        "  return multiply\n",
        "\n",
        "print(fact(-2))\n",
        "print(fact(0))\n",
        "print(fact(5))\n",
        "Take_Input = int(input())\n",
        "print(fact(Take_Input))"
      ],
      "metadata": {
        "colab": {
          "base_uri": "https://localhost:8080/"
        },
        "id": "er7cVZCAkHcn",
        "outputId": "dcb441dc-5d6c-4db5-e44a-e4877fa08509"
      },
      "execution_count": null,
      "outputs": [
        {
          "output_type": "stream",
          "name": "stdout",
          "text": [
            "Factorial doesn't exist!\n",
            "Factorial 0 = 1\n",
            "120\n",
            "6\n",
            "720\n"
          ]
        }
      ]
    },
    {
      "cell_type": "code",
      "source": [
        "from os import F_LOCK\n",
        "### Problem 4: Temperature converter\n",
        "\n",
        "# Write a function that converts celsius to fahrenheit, and vice versa.\n",
        "\n",
        "# The formulae are as follows:\n",
        "# - Fahrenheit to Celsius: (F - 32) * 5/9\n",
        "# - Celsius to Fahrenheit: (C * 9/5) + 32\n",
        "\n",
        "# Your function should take 2 arguments: a temperature and the scale the temperature needs to be converted to.\n",
        "\n",
        "# For instance, `my_func(100, 'F')` would assume that 100 is in Celsius and would convert it to 212F (in other words, it would return 212).\n",
        "#  On the other hand `my_func(100, 'C')` would assume 100 is in Fahrenheir and would convert it to 37.7C.\n",
        "\n",
        "# You can assume that the second argument of your function will always be either `C` or `F`.\n",
        "\n",
        "def my_func(n, s):\n",
        "  if s == \"F\":\n",
        "    return ((n - 32) * (5 / 9))\n",
        "  elif s == \"C\":\n",
        "    return ((n * (9 / 5)) + 32)\n",
        "  else:\n",
        "    return \"Input Correct Scale\"\n",
        "\n",
        "print(my_func(100, \"C\"))\n",
        "\n",
        "take_values, F_C = float(input()), str(input())\n",
        "print(my_func(take_values, F_C))"
      ],
      "metadata": {
        "colab": {
          "base_uri": "https://localhost:8080/"
        },
        "id": "h6Xo81CUqV9f",
        "outputId": "942e63a9-3e47-4bf1-d5cd-2c6233763162"
      },
      "execution_count": null,
      "outputs": [
        {
          "output_type": "stream",
          "name": "stdout",
          "text": [
            "212.0\n",
            "100\n",
            "F\n",
            "37.77777777777778\n"
          ]
        }
      ]
    },
    {
      "cell_type": "code",
      "source": [
        "### Problem 5: List Manipulation\n",
        "\n",
        "# Write a function that takes in a list of numbers as input and performs the following operations sequentially:\n",
        "# - Remove all odd numbers\n",
        "# - Double every remaining number\n",
        "# - Sum all the modified numbers\n",
        "\n",
        "# There is one caveat here though: you're not allowed to use loops! If you feel like you don't know how to proceed,\n",
        "# maybe googling *List Comprehension in Python* might help :)\n",
        "\n",
        "# As an example, `my_func([1, 2, 3, 4, 5])` would remove all odd numbers to create `[2, 4]`,\n",
        "# double the numbers to create `[4, 8]` and then return a final answer of `12`.\n",
        "\n",
        "def my_def(list1):\n",
        "  even = filter(lambda x: x % 2 == 0, list1)\n",
        "  double = map(lambda x: x*2, even)\n",
        "  total = sum(double)\n",
        "  return total\n",
        "\n",
        "list1 = [2, 4, 7, 6, 67, 23, 8]\n",
        "print(my_def(list1))"
      ],
      "metadata": {
        "colab": {
          "base_uri": "https://localhost:8080/"
        },
        "id": "I3o4VhXMsdw1",
        "outputId": "1c645dda-15b3-493c-ef9f-88402d953bac"
      },
      "execution_count": null,
      "outputs": [
        {
          "output_type": "stream",
          "name": "stdout",
          "text": [
            "40\n"
          ]
        }
      ]
    },
    {
      "cell_type": "code",
      "source": [
        "### Problem 6: Patterns I\n",
        "\n",
        "# Write a function that takes in a number, and prints out a pattern.\n",
        "# If the number is 1, you should print out:\n",
        "# ```\n",
        "# *\n",
        "# ```\n",
        "# If it's 2, you should print out,\n",
        "# ```\n",
        "# *\n",
        "# **\n",
        "# ```\n",
        "# If it's 5, the result should be\n",
        "# ```\n",
        "# *\n",
        "# **\n",
        "# ***\n",
        "# ****\n",
        "# *****\n",
        "# ```\n",
        "# And so on.\n",
        "\n",
        "def my_fun(n):\n",
        "  for i in range(1, n+1, 1):\n",
        "    print(\"*\"*i)\n",
        "\n",
        "my_fun(5)"
      ],
      "metadata": {
        "colab": {
          "base_uri": "https://localhost:8080/"
        },
        "id": "Dz8xGJwf1Ucy",
        "outputId": "038bba0c-1691-4ecf-b0c5-3bf01dda042c"
      },
      "execution_count": null,
      "outputs": [
        {
          "output_type": "stream",
          "name": "stdout",
          "text": [
            "*\n",
            "**\n",
            "***\n",
            "****\n",
            "*****\n"
          ]
        }
      ]
    },
    {
      "cell_type": "code",
      "source": [
        "### Problem 7: Patterns II\n",
        "\n",
        "# Write a function that creates the mirror image of the pattern created in the last problem.\n",
        "\n",
        "# The pattern when n=1 remains the same.\n",
        "\n",
        "# For n=2,\n",
        "\n",
        "# ```\n",
        "#  *\n",
        "# **\n",
        "# ```\n",
        "\n",
        "# For n=5,\n",
        "\n",
        "# ```\n",
        "#     *\n",
        "#    **\n",
        "#   ***\n",
        "#  ****\n",
        "# *****\n",
        "# ```\n",
        "\n",
        "# And so on.\n",
        "\n",
        "def my_func(n):\n",
        "  for i in range(n+1, 0, -1):\n",
        "    print(\"*\"*i)\n",
        "\n",
        "my_func(5)"
      ],
      "metadata": {
        "colab": {
          "base_uri": "https://localhost:8080/"
        },
        "id": "yZUP-c0u32lD",
        "outputId": "57219427-fde5-45f9-ae42-bf88473eae40"
      },
      "execution_count": null,
      "outputs": [
        {
          "output_type": "stream",
          "name": "stdout",
          "text": [
            "******\n",
            "*****\n",
            "****\n",
            "***\n",
            "**\n",
            "*\n"
          ]
        }
      ]
    },
    {
      "cell_type": "code",
      "source": [
        "### Problem 8: Word Frequency\n",
        "\n",
        "# Write a function that takes in a string as a function and returns a dictionary of alphabet frequency in the string.\n",
        "# Your function should ignore all characters apart from English uppercase and lowercase alphabets.\n",
        "\n"
      ],
      "metadata": {
        "id": "CLd_wvzj5Qe_"
      },
      "execution_count": null,
      "outputs": []
    }
  ]
}